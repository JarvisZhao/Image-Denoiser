{
 "cells": [
  {
   "cell_type": "code",
   "execution_count": 1,
   "metadata": {
    "collapsed": true
   },
   "outputs": [],
   "source": [
    "import matplotlib.pyplot as plt \n",
    "import matplotlib.image as mpimg\n",
    "import numpy as np \n",
    "import os"
   ]
  },
  {
   "cell_type": "code",
   "execution_count": 2,
   "metadata": {
    "collapsed": true
   },
   "outputs": [],
   "source": [
    "files = np.load('images.npz')"
   ]
  },
  {
   "cell_type": "code",
   "execution_count": 12,
   "metadata": {},
   "outputs": [],
   "source": [
    "a = [1,2,3]"
   ]
  },
  {
   "cell_type": "code",
   "execution_count": 18,
   "metadata": {
    "collapsed": true
   },
   "outputs": [],
   "source": [
    "np.savez('temp.npz',a=a)"
   ]
  },
  {
   "cell_type": "code",
   "execution_count": 19,
   "metadata": {
    "collapsed": true
   },
   "outputs": [],
   "source": [
    "np.savez('temp.npz',b=a)"
   ]
  },
  {
   "cell_type": "code",
   "execution_count": 3,
   "metadata": {
    "collapsed": true
   },
   "outputs": [],
   "source": [
    "file = np.load('images.npz')"
   ]
  },
  {
   "cell_type": "code",
   "execution_count": 4,
   "metadata": {},
   "outputs": [
    {
     "data": {
      "text/plain": [
       "['original',\n",
       " 'noised-1',\n",
       " 'noised-2',\n",
       " 'noised-3',\n",
       " 'noised-4',\n",
       " 'noised-5',\n",
       " 'noised-6']"
      ]
     },
     "execution_count": 4,
     "metadata": {},
     "output_type": "execute_result"
    }
   ],
   "source": [
    "file.files"
   ]
  },
  {
   "cell_type": "code",
   "execution_count": 5,
   "metadata": {},
   "outputs": [],
   "source": [
    "original = file['original']"
   ]
  },
  {
   "cell_type": "code",
   "execution_count": 33,
   "metadata": {},
   "outputs": [],
   "source": [
    "original = original[:886]"
   ]
  },
  {
   "cell_type": "code",
   "execution_count": 6,
   "metadata": {},
   "outputs": [
    {
     "data": {
      "text/plain": [
       "array([[[255, 255, 255],\n",
       "        [255, 255, 255],\n",
       "        [255, 255, 255],\n",
       "        ..., \n",
       "        [219, 237, 255],\n",
       "        [216, 237, 255],\n",
       "        [219, 238, 255]],\n",
       "\n",
       "       [[255, 255, 255],\n",
       "        [255, 255, 255],\n",
       "        [255, 255, 255],\n",
       "        ..., \n",
       "        [217, 237, 255],\n",
       "        [218, 237, 255],\n",
       "        [217, 238, 255]],\n",
       "\n",
       "       [[255, 255, 255],\n",
       "        [255, 255, 255],\n",
       "        [255, 255, 255],\n",
       "        ..., \n",
       "        [217, 238, 255],\n",
       "        [218, 238, 255],\n",
       "        [218, 237, 255]],\n",
       "\n",
       "       ..., \n",
       "       [[ 36,  50,  27],\n",
       "        [ 38,  50,  32],\n",
       "        [ 39,  51,  29],\n",
       "        ..., \n",
       "        [ 76,  79,  36],\n",
       "        [ 73,  77,  29],\n",
       "        [ 68,  77,  40]],\n",
       "\n",
       "       [[ 33,  49,  31],\n",
       "        [ 33,  48,  31],\n",
       "        [ 32,  45,  25],\n",
       "        ..., \n",
       "        [ 78,  81,  40],\n",
       "        [ 83,  86,  35],\n",
       "        [ 81,  88,  33]],\n",
       "\n",
       "       [[ 36,  52,  35],\n",
       "        [ 35,  53,  34],\n",
       "        [ 38,  53,  32],\n",
       "        ..., \n",
       "        [ 79,  83,  27],\n",
       "        [ 83,  85,  34],\n",
       "        [ 75,  79,  31]]], dtype=uint8)"
      ]
     },
     "execution_count": 6,
     "metadata": {},
     "output_type": "execute_result"
    }
   ],
   "source": [
    "original[0]"
   ]
  },
  {
   "cell_type": "code",
   "execution_count": 8,
   "metadata": {
    "collapsed": true
   },
   "outputs": [],
   "source": [
    "noise1 = file['noised-1']"
   ]
  },
  {
   "cell_type": "code",
   "execution_count": 9,
   "metadata": {},
   "outputs": [
    {
     "data": {
      "text/plain": [
       "array([[[ 1.        ,  1.        ,  1.        ],\n",
       "        [ 1.        ,  1.        ,  1.        ],\n",
       "        [ 1.        ,  1.        ,  1.        ],\n",
       "        ..., \n",
       "        [ 0.85882354,  0.92941177,  1.        ],\n",
       "        [ 0.84705883,  0.92941177,  1.        ],\n",
       "        [ 0.80784315,  0.90980393,  1.        ]],\n",
       "\n",
       "       [[ 1.        ,  1.        ,  1.        ],\n",
       "        [ 1.        ,  1.        ,  1.        ],\n",
       "        [ 1.        ,  1.        ,  1.        ],\n",
       "        ..., \n",
       "        [ 0.8509804 ,  0.92941177,  1.        ],\n",
       "        [ 0.85490197,  0.92941177,  1.        ],\n",
       "        [ 0.81960785,  0.92156863,  1.        ]],\n",
       "\n",
       "       [[ 1.        ,  1.        ,  1.        ],\n",
       "        [ 1.        ,  1.        ,  1.        ],\n",
       "        [ 1.        ,  1.        ,  1.        ],\n",
       "        ..., \n",
       "        [ 0.84313726,  0.9254902 ,  0.99215686],\n",
       "        [ 0.85490197,  0.93333334,  1.        ],\n",
       "        [ 0.85490197,  0.92941177,  1.        ]],\n",
       "\n",
       "       ..., \n",
       "       [[ 0.23921569,  0.34117648,  0.18431373],\n",
       "        [ 0.23529412,  0.30980393,  0.19607843],\n",
       "        [ 0.20392157,  0.27450982,  0.15686275],\n",
       "        ..., \n",
       "        [ 0.13725491,  0.14509805,  0.0627451 ],\n",
       "        [ 0.11372549,  0.11764706,  0.04313726],\n",
       "        [ 0.09019608,  0.10196079,  0.05490196]],\n",
       "\n",
       "       [[ 0.21960784,  0.32156864,  0.20392157],\n",
       "        [ 0.2       ,  0.28627452,  0.18431373],\n",
       "        [ 0.16078432,  0.23137255,  0.1254902 ],\n",
       "        ..., \n",
       "        [ 0.15294118,  0.15686275,  0.07450981],\n",
       "        [ 0.10588235,  0.10588235,  0.04705882],\n",
       "        [ 0.07843138,  0.08235294,  0.03137255]],\n",
       "\n",
       "       [[ 0.22745098,  0.31764707,  0.21960784],\n",
       "        [ 0.19607843,  0.3019608 ,  0.1882353 ],\n",
       "        [ 0.18431373,  0.26274511,  0.15686275],\n",
       "        ..., \n",
       "        [ 0.0627451 ,  0.06666667,  0.02352941],\n",
       "        [ 0.04705882,  0.05098039,  0.01960784],\n",
       "        [ 0.03529412,  0.03529412,  0.01568628]]], dtype=float32)"
      ]
     },
     "execution_count": 9,
     "metadata": {},
     "output_type": "execute_result"
    }
   ],
   "source": [
    "noise1[0]"
   ]
  },
  {
   "cell_type": "code",
   "execution_count": null,
   "metadata": {
    "collapsed": true
   },
   "outputs": [],
   "source": []
  }
 ],
 "metadata": {
  "kernelspec": {
   "display_name": "Python 3",
   "language": "python",
   "name": "python3"
  },
  "language_info": {
   "codemirror_mode": {
    "name": "ipython",
    "version": 3
   },
   "file_extension": ".py",
   "mimetype": "text/x-python",
   "name": "python",
   "nbconvert_exporter": "python",
   "pygments_lexer": "ipython3",
   "version": "3.6.1"
  }
 },
 "nbformat": 4,
 "nbformat_minor": 2
}
